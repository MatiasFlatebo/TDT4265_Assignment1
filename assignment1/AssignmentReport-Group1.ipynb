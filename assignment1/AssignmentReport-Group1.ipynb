{
 "cells": [
  {
   "cell_type": "markdown",
   "metadata": {},
   "source": [
    "# Assignment 1 Report"
   ]
  },
  {
   "cell_type": "markdown",
   "metadata": {},
   "source": [
    "This is an outline for your report to ease the amount of work required to create your report. Jupyter notebook supports markdown, and I recommend you to check out this [cheat sheet](https://github.com/adam-p/markdown-here/wiki/Markdown-Cheatsheet). If you are not familiar with markdown.\n",
    "\n",
    "Before delivery, **remember to convert this file to PDF**. You can do it in two ways:\n",
    "1. Print the webpage (ctrl+P or cmd+P)\n",
    "2. Export with latex. This is somewhat more difficult, but you'll get somehwat of a \"prettier\" PDF. Go to File -> Download as -> PDF via LaTeX. You might have to install nbconvert and pandoc through conda; `conda install nbconvert pandoc`."
   ]
  },
  {
   "cell_type": "markdown",
   "metadata": {},
   "source": [
    "# Task 1"
   ]
  },
  {
   "cell_type": "markdown",
   "metadata": {},
   "source": [
    "## a)\n",
    "\n",
    "\n",
    "We have been given the cross-entropy loss function:\n",
    "\n",
    "$C_n(w) = -[y_n \\log(\\hat{y}_n) + (1 - y_n) \\log(1 - \\hat{y}_n)]$\n",
    "\n",
    "We also have the output of our network, $\\hat{y}_n = f(x)$, where $f(x)$ is the sigmoid function:\n",
    "$f(x) = \\frac{1}{1 + e^{-z_n}} $ , where \n",
    "\n",
    "$z_n = w^Tx_n$\n",
    "\n",
    "We want to find $\\frac{\\partial C_n(w)}{\\partial w_i}$\n",
    "\n",
    "<br>\n",
    "Using the chain rule, we have:\n",
    "\n",
    "$\\frac{\\partial C_n(w)}{\\partial w_i} = \\frac{\\partial C_n}{\\partial \\hat{y}_n} \\cdot \\frac{\\partial \\hat{y}_n}{\\partial z_n} \\cdot \\frac{\\partial z_n}{\\partial w_i}$\n",
    "\n",
    "<br>\n",
    "\n",
    "\n",
    "First part:\n",
    "$\\frac{\\partial C_n}{\\partial \\hat{y}_n} = -\\frac{y_n}{\\hat{y}_n} + \\frac{1 - y_n}{1 - \\hat{y}_n}$\n",
    "\n",
    "Second part:\n",
    "$\\frac{\\partial \\hat{y}_n}{\\partial z_n} = \\frac{1}{1 + e^{-z_n}} \\cdot (1 - \\frac{1}{1 + e^{-z_n}}) = \\hat{y}_n \\cdot (1 - \\hat{y}_n) $\n",
    "\n",
    "Third part:\n",
    "$\\frac{\\partial z_n}{\\partial w_i} = x_{n}$\n",
    "\n",
    "<br>\n",
    "\n",
    "Substitute these results back into the chain rule formula:\n",
    "\n",
    "$\\frac{\\partial C_n(w)}{\\partial w_i} = -\\left(\\frac{y_n}{\\hat{y}_n} - \\frac{1 - y_n}{1 - \\hat{y}_n}\\right) \\cdot \\hat{y}_n \\cdot (1 - \\hat{y}_n) \\cdot x_{n}$\n",
    "\n",
    "$\\frac{\\partial C_n(w)}{\\partial w_i} = (-y_n + y_n \\cdot \\hat{y}_n + \\hat{y}_n - y_n \\cdot \\hat{y}_n) \\cdot x_n $\n",
    "\n",
    "$\\frac{\\partial C_n(w)}{\\partial w_i} = - (y_n - \\hat{y}_n) \\cdot x_{n}$"
   ]
  },
  {
   "cell_type": "markdown",
   "metadata": {},
   "source": [
    "# Task 2"
   ]
  },
  {
   "cell_type": "markdown",
   "metadata": {},
   "source": [
    "## Task 2b)\n",
    "<img src=\"../task2b_binary_train_loss.png\">"
   ]
  },
  {
   "cell_type": "markdown",
   "metadata": {},
   "source": [
    "## Task 2c)\n",
    "<img src=\"../task2b_binary_train_accuracy.png\">"
   ]
  },
  {
   "cell_type": "markdown",
   "metadata": {},
   "source": [
    "## Task 2d)\n",
    "FILL IN ANSWER\n",
    "Rart at de sier vi skal øke epochs til 500 når vår stopper på 34 elller hva det var når standard er 50..."
   ]
  },
  {
   "cell_type": "markdown",
   "metadata": {},
   "source": [
    "## Task 2e)\n",
    "FILL IN ANSWER!!!\n",
    "\n",
    "\n",
    "<img src=\"../task2e_train_accuracy_shuffle_difference.png\">"
   ]
  },
  {
   "cell_type": "markdown",
   "metadata": {},
   "source": [
    "# Task 3"
   ]
  },
  {
   "cell_type": "markdown",
   "metadata": {},
   "source": [
    "## Task 3b)\n",
    "<img src=\"../task3b_softmax_train_loss.png\">"
   ]
  },
  {
   "cell_type": "markdown",
   "metadata": {},
   "source": [
    "## Task 3c)\n",
    "<img src=\"../task3b_softmax_train_accuracy.png\">"
   ]
  },
  {
   "cell_type": "markdown",
   "metadata": {},
   "source": [
    "## Task 3d)\n",
    "Yes, there are clear signs of overfitting. From the plot of the training and validation accuracy we can see that the training accuracy is higher than the validation accuracy. They differ from each other, escpecially after 3000 training steps. Training accuracy is 92,3 % while the validation accuracy is at 91,6%. Because the training accuracy is higher than the validation accuracy, the model might be memorizing the training data rather than making it generalizable to new data."
   ]
  },
  {
   "cell_type": "markdown",
   "metadata": {},
   "source": [
    "# Task 4"
   ]
  },
  {
   "cell_type": "markdown",
   "metadata": {},
   "source": [
    "## Task 4a)\n",
    "\n",
    "Fill in image of hand-written notes which are easy to read, or latex equations here\n",
    "\n",
    "Det under er ikke riktig!!!!!!!\n",
    "\n",
    " Virker som at de vil ha hele utledingen, men det gikk litt i ball for meg. Så for å gå videre sa jeg at første delen har vi fått og regnet ut den partiell deriverte av regularizeringsutrykket. Så svaret skal være det jeg har, men har ikke hele utledingen."
   ]
  },
  {
   "cell_type": "markdown",
   "metadata": {},
   "source": [
    "<img src=\"../4a.png\">"
   ]
  },
  {
   "cell_type": "markdown",
   "metadata": {},
   "source": [
    "## Task 4b)\n",
    "FILL IN ANSWER\n",
    "\n",
    "![](task4b_softmax_weight.png)"
   ]
  },
  {
   "cell_type": "markdown",
   "metadata": {},
   "source": [
    "## Task 4c)\n",
    "FILL IN ANSWER\n",
    "\n",
    "![](task4c_l2_reg_accuracy.png)"
   ]
  },
  {
   "cell_type": "markdown",
   "metadata": {},
   "source": [
    "## Task 4d)\n",
    "![](task4d_l2_reg_norms.png)"
   ]
  },
  {
   "cell_type": "markdown",
   "metadata": {},
   "source": [
    "## Task 4e)\n",
    "FILL IN ANSWER"
   ]
  }
 ],
 "metadata": {
  "kernelspec": {
   "display_name": "tdt4265",
   "language": "python",
   "name": "python3"
  },
  "language_info": {
   "codemirror_mode": {
    "name": "ipython",
    "version": 3
   },
   "file_extension": ".py",
   "mimetype": "text/x-python",
   "name": "python",
   "nbconvert_exporter": "python",
   "pygments_lexer": "ipython3",
   "version": "3.10.13"
  }
 },
 "nbformat": 4,
 "nbformat_minor": 4
}
