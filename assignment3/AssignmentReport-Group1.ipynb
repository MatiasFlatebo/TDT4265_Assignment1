{
 "cells": [
  {
   "cell_type": "markdown",
   "metadata": {},
   "source": [
    "# Assignment 3 Report"
   ]
  },
  {
   "cell_type": "markdown",
   "metadata": {},
   "source": [
    "This is an outline for your report to ease the amount of work required to create your report. Jupyter notebook supports markdown, and I recommend you to check out this [cheat sheet](https://github.com/adam-p/markdown-here/wiki/Markdown-Cheatsheet). If you are not familiar with markdown.\n",
    "\n",
    "Before delivery, **remember to convert this file to PDF**. You can do it in two ways:\n",
    "1. Print the webpage (ctrl+P or cmd+P)\n",
    "2. Export with latex. This is somewhat more difficult, but you'll get somehwat of a \"prettier\" PDF. Go to File -> Download as -> PDF via LaTeX. You might have to install nbconvert and pandoc through conda; `conda install nbconvert pandoc`."
   ]
  },
  {
   "cell_type": "markdown",
   "metadata": {},
   "source": [
    "# Task 1"
   ]
  },
  {
   "cell_type": "markdown",
   "metadata": {},
   "source": [
    "## task 1a)\n",
    "\n",
    "<img src=\"task1a_1.png\"><br>\n",
    "<img src=\"task1a_2.png\"><br>\n",
    "<img src=\"task1a_3.png\"><br>\n",
    "<img src=\"task1a_4.png\"><br>\n",
    "<img src=\"task1a_5.png\"><br>"
   ]
  },
  {
   "cell_type": "code",
   "execution_count": 1,
   "metadata": {},
   "outputs": [
    {
     "name": "stdout",
     "output_type": "stream",
     "text": [
      "[[-11   2   4  -1   7]\n",
      " [-24   8  12  -5  12]\n",
      " [-19  10   4  -3  15]]\n"
     ]
    }
   ],
   "source": [
    "import torch\n",
    "import scipy \n",
    "import numpy as np   \n",
    "\n",
    "x = np.array([[2,1,2,3,1],\n",
    "              [3,9,1,1,4],\n",
    "              [4,5,0,7,0]])\n",
    "y = np.array([[-1,0,1],\n",
    "              [-2,0,2],\n",
    "              [-1,0,1]])\n",
    "print(scipy.ndimage.convolve(x,y,mode='constant'))"
   ]
  },
  {
   "cell_type": "markdown",
   "metadata": {},
   "source": [
    "## task 1b)\n",
    "\n",
    "That is max pooling. Max pooling reduces the complexity of the image by keeping the maximum value of pixels close to each other. This makes the network more invariant to small translations nad distoritions in the input. \n",
    "\n",
    "## task 1c)\n",
    "\n",
    "To keep the dimensions:\n",
    "$Padding = \\frac{Kernel \\, size - 1}{2}$\n",
    "\n",
    "In this case kernel size is 7:\n",
    "$Padding = \\frac{7 - 1}{2} = 3$\n",
    "\n",
    "## task 1d)\n",
    "\n",
    "If the spatial dimensions of the features maps to 508x508 and no padding is used and the stride is 1, then the reduction in height and width will then be kernel size - 1. Since the reduction is 512-508=4, the kernel must be 5x5.\n",
    "Output = 508, input = 512, padding = 0, stride = 1\n",
    " \n",
    "$output = \\frac{input - kernel size + 2 * padding}{stride} + 1$\n",
    "\n",
    "$508 = 512 - K + 1 -> K = 5$\n",
    "\n",
    "## task 1e)\n",
    "Input = 508, kernel size = 2, padding = 0, stride = 2\n",
    "\n",
    "$output = \\frac{input - kernel size + 2 * padding}{stride} + 1$\n",
    "\n",
    "$output = \\frac{508 - 2}{2} + 1 = 254$\n",
    "\n",
    "## task 1f)\n",
    "\n",
    "Input = 254, kernel size = 3, padding = 0, stride = 1\n",
    "\n",
    "$output = \\frac{input - kernel size + 2 * padding}{stride} + 1$\n",
    "\n",
    "$output = \\frac{254 - 3}{1} + 1 = 252$\n",
    "\n",
    "## task 1g)\n",
    "\n",
    "params = weights + biases\n",
    "\n",
    "Params in a convolutional layer:\n",
    "\n",
    "$params = (k*k*M+1)*N$, where\n",
    "\n",
    "k - kernel size<br>\n",
    "M - number of filters in previous layer<br>\n",
    "N - number of filters in a layer<br>\n",
    "\n",
    "\n",
    "Params in a fully conected layer:\n",
    "\n",
    "$params = N*(M+1)$\n",
    "\n",
    "M - number of hidden units in previous layer<br>\n",
    "N - number of hidden units in a layer<br>\n",
    "\n",
    "\n",
    "Layer 1: $params = (5*5*3+1)*32 = 2432$<br>\n",
    "Layer 2: $params = (5*5*32+1)*64 = 51 264$<br>\n",
    "Layer 3: $params = (5*5*64+1)*128 = 204 928$<br>\n",
    "Flatten after layer 3 gives number of units = 128 * 4 * 4 = 2048<br>\n",
    "128 is number of filters in layer 3, 4 * 4 is given from the start 32x32 pixels that has been max pooled with 2x2 kernel and padding 2, three times.<br>\n",
    "Layer 4: $params = 64(2048 + 1) = 131 136$<br>\n",
    "Layer 5: $params = 10(128 + 1) = 650$<br>\n",
    "\n",
    "$Total params = 2432 + 51 264 + 204 928 + 131 136 + 650 = 390 410$"
   ]
  },
  {
   "cell_type": "markdown",
   "metadata": {},
   "source": [
    "# Task 2\n",
    "\n",
    "### Task 2a)\n",
    "\n",
    "### Task 2b)"
   ]
  },
  {
   "cell_type": "markdown",
   "metadata": {},
   "source": [
    "# Task 3"
   ]
  },
  {
   "cell_type": "markdown",
   "metadata": {},
   "source": [
    "### Task 3a)\n",
    "### Task 3b)\n",
    "### Task 3c)\n",
    "### Task 3d)\n",
    "### Task 3e)\n",
    "### Task 3f)"
   ]
  },
  {
   "cell_type": "markdown",
   "metadata": {},
   "source": [
    "# Task 4"
   ]
  },
  {
   "cell_type": "markdown",
   "metadata": {},
   "source": [
    "## Task 4a)\n",
    "\n",
    "FILL IN ANSWER. "
   ]
  },
  {
   "cell_type": "markdown",
   "metadata": {},
   "source": [
    "## Task 4b)\n",
    "FILL IN ANSWER\n"
   ]
  },
  {
   "cell_type": "markdown",
   "metadata": {},
   "source": [
    "## Task 4c)\n",
    "FILL IN ANSWER"
   ]
  }
 ],
 "metadata": {
  "kernelspec": {
   "display_name": "pytorch",
   "language": "python",
   "name": "python3"
  },
  "language_info": {
   "codemirror_mode": {
    "name": "ipython",
    "version": 3
   },
   "file_extension": ".py",
   "mimetype": "text/x-python",
   "name": "python",
   "nbconvert_exporter": "python",
   "pygments_lexer": "ipython3",
   "version": "3.11.8"
  }
 },
 "nbformat": 4,
 "nbformat_minor": 4
}
